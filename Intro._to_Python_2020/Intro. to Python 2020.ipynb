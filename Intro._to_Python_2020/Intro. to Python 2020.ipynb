{
 "cells": [
  {
   "cell_type": "markdown",
   "metadata": {},
   "source": [
    "<center>\n",
    "  <h1>Digital Tools and Methods for the Humanities and Social Sciences</h1>\n",
    "  <img src=\"https://raw.githubusercontent.com/sul-cidr/Workshops/master/cidr-logo.no-text.240x140.png\" alt=\"Center for Interdisciplinary Digital Research @ Stanford\"/>\n",
    "</center>\n",
    "\n",
    "# Introduction to Python\n",
    "\n",
    "### Instructors\n",
    "- Simon Wiles (CIDR), <em>simon.wiles@stanford.edu</em>\n",
    "- Peter Broadwell (CIDR), <em>broadwell@stanford.edu</em>\n",
    "\n",
    "### Sign In\n",
    "Please sign in for this workshop at: https://signin.cidr.link/Intro._to_Python/ -- when you've submitted the sign-in form, please keep your browser tab open on the evaluation form as a reminder to complete it when the workshop is over.\n",
    "\n",
    "\n",
    "### Goal\n",
    "By the end of our workshop today, we hope you'll have an understanding of basic syntax in Python for variables, functions, and control flow, and have some familiarity with some of the fundamental data structures you'll need to work with. With these in hand, you'll know enough to write simple scripts and begin to explore other features of the language.\n",
    "\n",
    "### Topics\n",
    "- Variables and Types (strings, lists, dictionaries)\n",
    "- Functions\n",
    "- Control Flow\n",
    "- Reading and writing text to a file \n",
    "\n",
    "\n",
    "### Evaluation survey\n",
    "At the end of the workshop, we would be very grateful if you can, please, spend 1 minute answering a few questions that will help us to continue our workshop series.\n",
    "- https://evaluations.cidr.link/Intro._to_Python/\n"
   ]
  },
  {
   "cell_type": "markdown",
   "metadata": {},
   "source": [
    "## Why Python?\n",
    "<mark>REVISE</mark>\n",
    "It's multi-use: you can write simple scripts to automate tasks, write complex code for machine learning and other approaches, and even build full-scale web applications.\n",
    "\n",
    "The biggest reason we see people learning Python right now is for data science and related approaches, regardless of disciplinary background."
   ]
  },
  {
   "cell_type": "markdown",
   "metadata": {},
   "source": [
    "## Jupyter Notebooks and Google Colaboratory\n",
    "\n",
    "Jupyter notebooks are a way to write and run Python code in an interactive way. They're quickly becoming a standard way of putting together data, code, and written explanations or visualizations into a single document and sharing that. There are a lot of ways that you can run Jupyter notebooks, including just locally on your computer, but we've decided to use Google's Colaboratory notebook platform for this workshop.  Colaboratory is “a Google research project created to help disseminate machine learning education and research.”  If you would like to know more about Colaboratory in general, you can visit the [Welcome Notebook](https://colab.research.google.com/notebooks/welcome.ipynb).\n",
    "\n",
    "Using the Google Colaboratory platform allows us to focus on learning and writing Python in the workshop rather than on setting up Python, which can sometimes take a bit of extra work depending on platforms, operating systems, and other installed applications. If you'd like to install a Python distribution locally, though, we have some instructions (with gifs!) on installing Python through the Anaconda distribution, which will also help you handle virtual environments: https://github.com/sul-cidr/Workshops/wiki/Installing-and-Configuring-Anaconda-and-Jupyter-Notebooks\n",
    "\n",
    "If you run into problems, or would like to look into other ways of installing Python or handling virtual environments, feel free to send us an email (contact-cidr@stanford.edu) or visit us during our [consulting hours](https://library.stanford.edu/research/cidr/consulting).\n",
    "\n",
    "It should be possible to follow along with this workshop using a regular Python console (\"terminal\", \"command-prompt\", etc.)  Please note however that we will not be able to support you with problems related to a local environment during this workshop, and we do recommend using the Colaboratory notebooks if you are at all unsure."
   ]
  },
  {
   "cell_type": "markdown",
   "metadata": {},
   "source": [
    "## Some Basic Language Features"
   ]
  },
  {
   "cell_type": "markdown",
   "metadata": {},
   "source": [
    "### The `print()` function\n",
    "The most basic way for a Python program to generate output is via the `print()` function, which `print`s directly to the console or terminal environment in which the Python interpreted is executed.  In our Jupyter / Google Colab notebooks, this produces output beneath the code cell:\n",
    "\n",
    "```python\n",
    "print(\"Hello World!\")\n",
    "```"
   ]
  },
  {
   "cell_type": "code",
   "execution_count": null,
   "metadata": {},
   "outputs": [],
   "source": [
    "# Your turn:\n"
   ]
  },
  {
   "cell_type": "markdown",
   "metadata": {},
   "source": [
    "Jupyter code cells (and other Python console environments) will also automatically output the _return value_ of a cell (or other code block) -- in our context here that means the last statement in a code cell:\n",
    "```python\n",
    "\"Hello world!\"\n",
    "```"
   ]
  },
  {
   "cell_type": "code",
   "execution_count": null,
   "metadata": {},
   "outputs": [],
   "source": [
    "# Your turn:\n"
   ]
  },
  {
   "cell_type": "markdown",
   "metadata": {},
   "source": [
    "For more information about the print() statement, we can access Python's built-in documentation and the Colab envionment's autocomplete and intellisense functionality.\n",
    "```python\n",
    "print?\n",
    "```"
   ]
  },
  {
   "cell_type": "code",
   "execution_count": null,
   "metadata": {},
   "outputs": [],
   "source": [
    "# Your turn:\n"
   ]
  },
  {
   "cell_type": "markdown",
   "metadata": {},
   "source": [
    "### Comments\n",
    "Comments are an important part of any program.  In Python, comments begin with `#`:\n",
    "\n",
    "```python\n",
    "# This is a comment\n",
    "print(\"Hello world!\")\n",
    "\n",
    "```\n",
    "\n",
    "and they can also be used to annotate lines of code:\n",
    "```python\n",
    "print(\"Hello world!\")  # Comments are fine here too!\n",
    "```\n",
    "\n",
    "Use comments liberally, when you are learning and even when you think you know exactly what you're doing.  Your comments should allow readers of your code to understand _why_ your code does what it does.  Remember that a primary audience for your comments will be you yourself when you revisit your code in the future!"
   ]
  },
  {
   "cell_type": "markdown",
   "metadata": {},
   "source": [
    "### Indentation and Blocks\n",
    "White-space (specifically white-space at the beginning of lines) is meaningful in Python programs, and defines groups of statements which constitute _blocks_, which will become important when we discuss control flow and functions.  For now, note that indentation must be consistent in a python file -- the convention is to use four spaces.  Mixing up indentation levels will result in errors:"
   ]
  },
  {
   "cell_type": "code",
   "execution_count": null,
   "metadata": {},
   "outputs": [],
   "source": [
    "# Run this cell, and notice the error\n",
    "# Notice too that the whole cell fails to run, not just the line with the error\n",
    "print(\"this is fine\")\n",
    "  print(\"this is not\")"
   ]
  },
  {
   "cell_type": "markdown",
   "metadata": {},
   "source": [
    "## Variables and Types\n",
    "\n",
    "In Python, all the \"bits of information\" of one sort or another in our programs can be referred to as _**value**s_.  Every _**value**_ has a _**type**_ (_**string**_, _**number**_, etc.), and _**variables**_ give us a way of naming and referring to those objects.\n",
    "\n",
    "\n",
    "Python has lots of native datatypes, but the most important ones are:\n",
    "\n",
    "* **Booleans** -- `True` or `False`\n",
    "* **Numbers** -- primarily integers and floats\n",
    "* **Strings** -- sequences of characters\n",
    "* **Lists** -- ordered sequences of values\n",
    "* **Tuples** -- like **list**s but immutable\n",
    "* **Dictionaries** -- unordered collections of key-value pairs\n",
    "* **Sets** -- unordered collections of values\n",
    "\n",
    "\n",
    "_**Assignment**_ is the operation of attaching an _**identifier**_ to a _**value**_, and in Python this is done with a single equals sign (`=`).\n"
   ]
  },
  {
   "cell_type": "markdown",
   "metadata": {},
   "source": [
    "### Strings\n",
    "\n",
    "Strings are sequences of characters -- what we tend to call \"text\".\n",
    "\n",
    "```python\n",
    "# A simple string assignment\n",
    "greeting = \"Welcome to Introduction to Python!\"\n",
    "print(greeting)\n",
    "print(type(greeting))\n",
    "```"
   ]
  },
  {
   "cell_type": "code",
   "execution_count": null,
   "metadata": {},
   "outputs": [],
   "source": [
    "# Your turn -- type the above code or a similar greeting of your own below:\n"
   ]
  },
  {
   "cell_type": "markdown",
   "metadata": {},
   "source": [
    "Strings can be indicated by single (`'`) or double (`\"`) quotes -- it makes no difference at all, and is merely a convenience."
   ]
  },
  {
   "cell_type": "code",
   "execution_count": null,
   "metadata": {},
   "outputs": [],
   "source": [
    "fair_warning = 'I will be using examples from \"Monty Python\"...'\n",
    "print(fair_warning)"
   ]
  },
  {
   "cell_type": "markdown",
   "metadata": {},
   "source": [
    "\"Escaping\" (use of the backslash `\\` before a character) can be used also, typically if we want single and double quotes in a string:"
   ]
  },
  {
   "cell_type": "code",
   "execution_count": null,
   "metadata": {},
   "outputs": [],
   "source": [
    "fair_warning = \"I'll be using examples from \\\"Monty Python\\\"...\"\n",
    "print(fair_warning)"
   ]
  },
  {
   "cell_type": "code",
   "execution_count": null,
   "metadata": {},
   "outputs": [],
   "source": [
    "# Strings may also be indicated by the use of triple quotes (''' or \"\"\" may be used).\n",
    "fair_warning = '''I'll be using examples from \"Monty Python\"...'''\n",
    "print(fair_warning)"
   ]
  },
  {
   "cell_type": "code",
   "execution_count": null,
   "metadata": {},
   "outputs": [],
   "source": [
    "# This is especially useful if you'd like to have multi-line strings\n",
    "cheesemakers = '''\n",
    "Man: I think it was, \"Blessed are the cheesemakers\"!\n",
    "Gregory's wife: What's so special about the cheesemakers?\n",
    "Gregory: Well, obviously it's not meant to be taken literally. It refers to any manufacturer of dairy products.\n",
    "'''\n",
    "print(cheesemakers)"
   ]
  },
  {
   "cell_type": "markdown",
   "metadata": {},
   "source": [
    "#### String Methods\n",
    "\n",
    "**String**s in Python have some special behaviors attached to them (called _method_s) that perform common tasks.\n",
    "\n",
    "Let’s look a case-manipulation, for example:"
   ]
  },
  {
   "cell_type": "code",
   "execution_count": null,
   "metadata": {},
   "outputs": [],
   "source": [
    "# Upper- and lower-case are straightforward:\n",
    "print(\"Uppercase:   \", \"monty python's flying circus\".upper())\n",
    "print(\"Lowercase:   \", \"MONTY PYTHON'S FLYING CIRCUS\".lower())\n",
    "\n",
    "# Case-manipulation is unicode-aware\n",
    "#  (but don't make the mistake of thinking this solves all problems!).\n",
    "print(\"Uppercase:   \", \"norsk blå papegøye\".upper())  # \"Norweigian Blue parrot\" in Norweigian :)\n",
    "\n",
    "# Capitalization is mostly trivial...\n",
    "print(\"Capitalized: \", \"monty python's flying circus\".capitalize())\n",
    "\n",
    "# ...but it takes a naïve approach to title-case.\n",
    "print(\"Title Case:  \", \"monty python's flying circus\".title())"
   ]
  },
  {
   "cell_type": "markdown",
   "metadata": {},
   "source": [
    "Strings also provide the `.replace()` method, which behaves as expected:"
   ]
  },
  {
   "cell_type": "code",
   "execution_count": null,
   "metadata": {},
   "outputs": [],
   "source": [
    "brian = \"Brian is the Messiah!\"\n",
    "print(brian)\n",
    "\n",
    "# He's not the Messiah...\n",
    "brian = brian.replace(\"the Messiah\", \"a very naughty boy\")\n",
    "print(brian)"
   ]
  },
  {
   "cell_type": "markdown",
   "metadata": {},
   "source": [
    "The `.strip()` and `.split()` methods are amongst the most commonly used, and are especially useful when dealing with data from external sources."
   ]
  },
  {
   "cell_type": "code",
   "execution_count": null,
   "metadata": {},
   "outputs": [],
   "source": [
    "# .split() breaks a string into pieces, and returns those pieces as a list\n",
    "input_string = \"Monty Python and the Holy Grail\"\n",
    "input_string.split()"
   ]
  },
  {
   "cell_type": "code",
   "execution_count": null,
   "metadata": {},
   "outputs": [],
   "source": [
    "# .split() takes an argument which specifies the sequence to split on\n",
    "knights_of_the_round_table = \"Sir Bedevere the Wise, Sir Lancelot the Brave, Sir Galahad the Pure, Sir Robin the Not-Quite-So-Brave-as-Sir-Lancelot, Sir Not-Appearing-in-this-Film\"\n",
    "knights_of_the_round_table.split(',')"
   ]
  },
  {
   "cell_type": "markdown",
   "metadata": {},
   "source": [
    "In some of the previous examples we have had some extraneous white-space in our strings.  For the `knights_of_the_round_table` we could remove this by splitting on `\", \"` (try it!), but in “the wild” we commonly need to clean-up the text that we read into our programs, and the `.strip()` method is a good first step:"
   ]
  },
  {
   "cell_type": "code",
   "execution_count": null,
   "metadata": {},
   "outputs": [],
   "source": [
    "# .strip() can be called on string literals as well as variables\n",
    "\"  ...And now for something completely different!  \".strip()"
   ]
  },
  {
   "cell_type": "code",
   "execution_count": null,
   "metadata": {},
   "outputs": [],
   "source": [
    "# .strip() can also take an argument which is a sequence of\n",
    "#  characters to strip from the ends of the input\n",
    "\"  ...And now for something completely different!  \".strip(' .!')"
   ]
  },
  {
   "cell_type": "code",
   "execution_count": null,
   "metadata": {},
   "outputs": [],
   "source": [
    "# in our excerpt from the script for the Life of Brian, we had some\n",
    "#  whitespace at the beginning and the end, in the form of (probably)\n",
    "#  extraneous new-line characters -- as can be seen when we .split()\n",
    "cheesemakers.split('\\n')"
   ]
  },
  {
   "cell_type": "code",
   "execution_count": null,
   "metadata": {},
   "outputs": [],
   "source": [
    "# first we can remove these:\n",
    "print(cheesemakers.strip())"
   ]
  },
  {
   "cell_type": "code",
   "execution_count": null,
   "metadata": {},
   "outputs": [],
   "source": [
    "# and because cheesemakers.strip() returns another string, we can chain\n",
    "#  these operations and do them both in one line:\n",
    "cheesemakers.strip().split('\\n')"
   ]
  },
  {
   "cell_type": "markdown",
   "metadata": {},
   "source": [
    "#### Indexing\n",
    "\n",
    "Indexing is one of the most important and recognizable features in Python.  It's very powerful, and Python programmers agree that it's very elegant and intuitive once you get the hang of it.  At the same time, it is often something that newcomers to Python find a little confusing.\n",
    "\n"
   ]
  },
  {
   "cell_type": "code",
   "execution_count": null,
   "metadata": {},
   "outputs": [],
   "source": []
  },
  {
   "cell_type": "markdown",
   "metadata": {},
   "source": [
    "Strings have many other useful methods.  The full list is available in the [documentation](https://docs.python.org/3/library/stdtypes.html#string-methods), but it's often more convenient to use Google Colab’s autocompletion feature to see what’s available.  Hovering the mouse-cursor over an identifier will give some pop-up help, too, and if that's not sufficient we can access Python's built-in documentation (known as `docstrings`) by appending a question mark (`?`) and executing the cell."
   ]
  },
  {
   "cell_type": "code",
   "execution_count": null,
   "metadata": {},
   "outputs": [],
   "source": [
    "# for the autocompletion to work, a string must already be assigned to\n",
    "#  the variable identifier\n",
    "my_string = \"abc\""
   ]
  },
  {
   "cell_type": "code",
   "execution_count": null,
   "metadata": {},
   "outputs": [],
   "source": [
    "# now type \"mystring.\" below\n",
    "# select a method, and hover the mouse pointer over the method name for more information\n",
    "# you can also try affixing a \"?\" and running the cell\n",
    "\n"
   ]
  },
  {
   "cell_type": "markdown",
   "metadata": {},
   "source": [
    "#### More about Strings\n",
    "\n",
    "There's lots more to learn about strings that we don't have time to cover here.  The most important thing that's not covered here is string formatting using the `.format()` method, or even better, **f-strings**."
   ]
  },
  {
   "cell_type": "markdown",
   "metadata": {},
   "source": [
    "### Lists\n",
    "\n",
    "**List**s are one of the most important data-structures available in Python.  They can be created in a number of different ways."
   ]
  },
  {
   "cell_type": "code",
   "execution_count": null,
   "metadata": {},
   "outputs": [],
   "source": [
    "# literal list are built with square-bracket notation\n",
    "pythons = ['Graham', 'John', 'Terry', 'Eric', 'Terry', 'Michael']\n",
    "print(pythons)"
   ]
  },
  {
   "cell_type": "markdown",
   "metadata": {},
   "source": [
    "Above we saw how **list**s are returned by the `.split()` method of a **string**."
   ]
  },
  {
   "cell_type": "code",
   "execution_count": null,
   "metadata": {},
   "outputs": [],
   "source": [
    "# a list created by splitting a string\n",
    "knights_of_the_round_table = 'Sir Bedevere the Wise, Sir Lancelot the Brave, Sir Galahad the Pure, Sir Robin the Not-Quite-So-Brave-as-Sir-Lancelot, Sir Not-Appearing-in-this-Film'\n",
    "knights_of_the_round_table.split(', ')"
   ]
  },
  {
   "cell_type": "markdown",
   "metadata": {},
   "source": [
    "**List**s can be indexed just like strings:"
   ]
  },
  {
   "cell_type": "code",
   "execution_count": null,
   "metadata": {},
   "outputs": [],
   "source": [
    "print(\"pythons:     \", pythons)\n",
    "print(\"pythons[0]:  \", pythons[0])\n",
    "print(\"pythons[-1]: \", pythons[-1])\n",
    "print(\"pythons[:3]: \", pythons[:3])\n",
    "print(\"pythons[3:]: \", pythons[3:])"
   ]
  },
  {
   "cell_type": "code",
   "execution_count": null,
   "metadata": {},
   "outputs": [],
   "source": []
  },
  {
   "cell_type": "code",
   "execution_count": null,
   "metadata": {},
   "outputs": [],
   "source": []
  },
  {
   "cell_type": "code",
   "execution_count": null,
   "metadata": {},
   "outputs": [],
   "source": []
  },
  {
   "cell_type": "code",
   "execution_count": null,
   "metadata": {},
   "outputs": [],
   "source": [
    "# Your turn:\n"
   ]
  },
  {
   "cell_type": "markdown",
   "metadata": {},
   "source": [
    "A third way is to create an empty **list** and use the `.append()` method that exists on all lists:\n",
    "\n",
    "```python\n",
    "# we can create an empty list with the following syntax\n",
    "menu = []\n",
    "\n",
    "# and then add items to the list with the .append() method\n",
    "menu.append('egg')\n",
    "menu.append('bacon')\n",
    "menu.append('sausage')\n",
    "menu.append('spam')\n",
    "\n",
    "print(menu)\n",
    "```"
   ]
  },
  {
   "cell_type": "code",
   "execution_count": null,
   "metadata": {},
   "outputs": [],
   "source": [
    "# we can create an empty list with the following syntax\n",
    "menu = []\n",
    "\n",
    "# and then add items to the list with the .append() method\n",
    "menu.append('egg')\n",
    "menu.append('bacon')\n",
    "menu.append('sausage')\n",
    "menu.append('spam')\n",
    "\n",
    "print(menu)"
   ]
  },
  {
   "cell_type": "markdown",
   "metadata": {},
   "source": [
    "This example highlights one of the features that make **list**s so versatile and useful -- they can be added to once they have been created.  Building **list**s programmatically is one of the most common types of task you are likely to find yourself tackling in Python.\n",
    "\n",
    "This feature of **list**s is called _**mutability**_, and it includes the ability to modify entries in the list in-place:"
   ]
  },
  {
   "cell_type": "code",
   "execution_count": null,
   "metadata": {},
   "outputs": [],
   "source": [
    "print(\"before: \", menu)\n",
    "\n",
    "menu[0] = \"spam\"\n",
    "menu[1] = \"spam\"\n",
    "menu[2] = \"spam\"\n",
    "\n",
    "print(\"after:  \", menu)"
   ]
  },
  {
   "cell_type": "code",
   "execution_count": null,
   "metadata": {},
   "outputs": [],
   "source": [
    "# joining our list literal from above\n",
    "print(\", \".join(knights))"
   ]
  },
  {
   "cell_type": "code",
   "execution_count": null,
   "metadata": {},
   "outputs": [],
   "source": [
    "# join the menu with the word \"and\"\n",
    "print(\" and \".join(menu))"
   ]
  },
  {
   "cell_type": "code",
   "execution_count": null,
   "metadata": {},
   "outputs": [],
   "source": [
    "# joining on the newline character is often useful, too\n",
    "print(\"\\n\".join(pythons))"
   ]
  },
  {
   "cell_type": "code",
   "execution_count": null,
   "metadata": {},
   "outputs": [],
   "source": []
  },
  {
   "cell_type": "code",
   "execution_count": null,
   "metadata": {},
   "outputs": [],
   "source": []
  },
  {
   "cell_type": "markdown",
   "metadata": {},
   "source": [
    "### Dictionaries\n",
    "\n",
    "A dictionary in Python is a collection of `key`/`value` pairs -- each pair together is known as an `item`.  Values can be any kind of value you like -- strings, numbers, lists, more dictionaries, etc. -- but keys have certain restrictions.  For the majority of purposes you should be using strings as your dictionary keys."
   ]
  },
  {
   "cell_type": "code",
   "execution_count": null,
   "metadata": {},
   "outputs": [],
   "source": [
    "# dictionary keys must be unique in the dictionary, so note that while\n",
    "#  this is legal...\n",
    "pythons_by_first_name = {\n",
    "    \"Graham\": \"Graham Chapman\",\n",
    "    \"John\": \"John Cleese\",\n",
    "    \"Terry\": \"Terry Gilliam\",\n",
    "    \"Eric\": \"Eric Idle\",\n",
    "    \"Terry\": \"Terry Jones\",\n",
    "    \"Michael\": \"Michael Palin\"\n",
    "}\n",
    "# the second appearance of the duplicate key has over-written the first\n",
    "pythons_by_first_name"
   ]
  },
  {
   "cell_type": "code",
   "execution_count": null,
   "metadata": {},
   "outputs": [],
   "source": [
    "# dictionaries are accessed using square-bracket notation -- a little\n",
    "#  bit like indexing for sequence types\n",
    "\n",
    "cheeseshop = {\n",
    "    \"Red Leicester\": \"I'm afraid we're fresh out of Red Leicester sir.\",\n",
    "    \"Tilsit\": \"Never at the end of the week, sir. Always get it fresh first thing on Monday.\",\n",
    "    \"Caerphilly\": \"Ah well, it's been on order for two weeks, sir. I was expecting it this morning.\",\n",
    "    \"Bel Paese\": \"Sorry.\",\n",
    "    \"Red Windsor\": \"Normally, sir, yes, but today the van broke down.\",\n",
    "    \"Stilton\": \"Sorry.\"\n",
    "}\n",
    "\n",
    "print(\"Do you have any Tilsit?\", cheeseshop[\"Tilsit\"], sep=\"\\n\")\n"
   ]
  },
  {
   "cell_type": "code",
   "execution_count": null,
   "metadata": {},
   "outputs": [],
   "source": [
    "# attempting to access a key that doesn't exist raises a `KeyError` exception\n",
    "cheeseshop[\"Stinking Bishop\"]"
   ]
  },
  {
   "cell_type": "markdown",
   "metadata": {},
   "source": [
    "We're not going to work much more with dictionaries in this workshop, but they are one of the most important weapons in the Python programmer's arsenal and there's much more to be learned about them."
   ]
  },
  {
   "cell_type": "code",
   "execution_count": null,
   "metadata": {},
   "outputs": [],
   "source": []
  },
  {
   "cell_type": "code",
   "execution_count": null,
   "metadata": {},
   "outputs": [],
   "source": []
  },
  {
   "cell_type": "markdown",
   "metadata": {},
   "source": [
    "## Functions\n",
    "\n",
    "**Function**s are blocks of reusable code.  They provide a way to break monolithic programs into parts; this aids greatly in writing code that is readable, maintainable, and extensible.  It is especially important, of course, when a block of code will or may be used multiple times in the same or similar ways, but a section of code does not need to be used multiple times to justify creating it as a function.\n",
    "\n",
    "### Built-In Functions\n",
    "\n",
    "We've already seen a number of **function**s in what we've done so far -- `print()`, of course, but also `len()` and `type()`.  When functions are bound to objects -- as `.format()`, `.lower()` etc. on string objects, or `.append()` on list objects, we call them **method**s, but the difference is minimal and need not concern us at this point.\n",
    "\n",
    "The functions (and methods) we've seen so far are “built-in” functions -- they're provided to us by the Python interpreter.  The important thing we need to learn in this section is how to _define_ and _call_ (or _invoke_) our own functions."
   ]
  },
  {
   "cell_type": "markdown",
   "metadata": {},
   "source": [
    "### `def`ining Your Own Functions\n",
    "\n",
    "User-Defined Functions, as they are sometimes called, can be created at any time in Python code.  Notice that defining a function in this way creates no output."
   ]
  },
  {
   "cell_type": "code",
   "execution_count": null,
   "metadata": {},
   "outputs": [],
   "source": [
    "# functions are introduced with the \"def\" keyword (note the final colon)\n",
    "def knights_who_say_ni():\n",
    "    # the block of indented statements beneath the definition statement\n",
    "    #  constitutes the body of the function\n",
    "    print(\"Ni!\")"
   ]
  },
  {
   "cell_type": "code",
   "execution_count": null,
   "metadata": {},
   "outputs": [],
   "source": [
    "# when defined in this way, they can be called just like built-ins:\n",
    "knights_who_say_ni()"
   ]
  },
  {
   "cell_type": "code",
   "execution_count": null,
   "metadata": {},
   "outputs": [],
   "source": [
    "# of course, functions are more useful when they take arguments\n",
    "def ask_for_cheese(cheese):\n",
    "    print(\"Do you have any \" + cheese + \"?\")\n",
    "    print(cheeseshop[cheese])\n",
    "    print()"
   ]
  },
  {
   "cell_type": "code",
   "execution_count": null,
   "metadata": {},
   "outputs": [],
   "source": [
    "# arguments (or parameters) are passed when the function is invoked:\n",
    "ask_for_cheese(\"Red Leicester\")"
   ]
  },
  {
   "cell_type": "code",
   "execution_count": null,
   "metadata": {},
   "outputs": [],
   "source": [
    "# the value of a function like this, of course, is when it will be called many times:\n",
    "ask_for_cheese(\"Red Leicester\")\n",
    "ask_for_cheese(\"Tilsit\")\n",
    "ask_for_cheese(\"Caerphilly\")\n",
    "ask_for_cheese(\"Bel Paese\")\n",
    "ask_for_cheese(\"Red Windsor\")\n",
    "ask_for_cheese(\"Stilton\")\n",
    "\n",
    "# ...\n",
    "ask_for_cheese(\"Venezuelan Beaver Cheese\")"
   ]
  },
  {
   "cell_type": "code",
   "execution_count": null,
   "metadata": {},
   "outputs": [],
   "source": [
    "# functions can take as many arguments as you need\n",
    "def greeting(first_name, last_name):\n",
    "    print(\"Good evening, my name is \" + first_name + \" \" + last_name + \".\")"
   ]
  },
  {
   "cell_type": "code",
   "execution_count": null,
   "metadata": {},
   "outputs": [],
   "source": [
    "# and they may be called with \"keyword arguments\" -- this can\n",
    "#  help readability, and allows passing the arguments in any order\n",
    "greeting(first_name=\"Michael\", last_name=\"Palin\")\n",
    "greeting(last_name=\"Palin\", first_name=\"Michael\")"
   ]
  },
  {
   "cell_type": "markdown",
   "metadata": {},
   "source": [
    "Unless otherwise specified with a `return` statement, functions do not return a value (which is to say, their return value is `None`)."
   ]
  },
  {
   "cell_type": "code",
   "execution_count": null,
   "metadata": {},
   "outputs": [],
   "source": [
    "value = greeting(\"Eric\", \"Idle\")\n",
    "print(value)"
   ]
  },
  {
   "cell_type": "code",
   "execution_count": null,
   "metadata": {},
   "outputs": [],
   "source": [
    "# to make a function return a value, use an explicit return statement\n",
    "def greeting(first_name, last_name):\n",
    "    return \"Good evening, my name is \" + first_name + \" \" + last_name + \".\"\n",
    "\n",
    "value = greeting(\"Graham\", \"Chapman\")\n",
    "print(value)"
   ]
  },
  {
   "cell_type": "markdown",
   "metadata": {},
   "source": [
    "### Activity: Write a Pig-Latinizer Function\n",
    "\n",
    "Pig Latin is a language game where you take the first letter of a word, move it to the end of the word, then add “-ay” at the end. For example, “pig latin” would be “igpay atinlay” and “monty python” would turn into “ontymay ythonpay”.\n",
    "\n",
    "In the cell below, write a function that takes a string, lowercases it, and returns the Pig Latin translation of the word. You'll need to use slicing and string concatenation or formatting to make this work."
   ]
  },
  {
   "cell_type": "code",
   "execution_count": null,
   "metadata": {},
   "outputs": [],
   "source": [
    "def pig_latinize(word):\n",
    "    # write your code here -- don't forget to return a result!\n",
    "\n",
    "\n",
    "    \n",
    "# the following should return 'pamalotsay'\n",
    "pig_latinize('Spamalot')"
   ]
  },
  {
   "cell_type": "code",
   "execution_count": null,
   "metadata": {
    "cellView": "form"
   },
   "outputs": [],
   "source": [
    "#@title → Click Here to Show Hints\n",
    "\n",
    "# 1. use word.lower() to lowercase the input\n",
    "# 2. you'll need to use the indexing techniques to get the first letter\n",
    "#    of the word, and everything-but-the-first-letter of the word separately\n",
    "# 3. once you have the pieces you need, stick them together to make your output\n"
   ]
  },
  {
   "cell_type": "code",
   "execution_count": null,
   "metadata": {
    "cellView": "form"
   },
   "outputs": [],
   "source": [
    "#@title → Click Here to Reveal a Prepared Solution\n",
    "\n",
    "def pig_latinize(word):\n",
    "    word = word.lower()\n",
    "    return word[1:] + word[0] + 'ay'\n",
    "\n",
    "\n",
    "# the following should return 'pamalotsay'\n",
    "pig_latinize('Spamalot')"
   ]
  },
  {
   "cell_type": "markdown",
   "metadata": {},
   "source": [
    "## Control Flow\n",
    "\n",
    "Using functions to split up our monolithic code in to manageable blocks also introduces our first element of **_control flow_** -- the ability to have code execute (or not execute) in a non-linear order (i.e. not simply from top to bottom, line by line).\n",
    "\n",
    "In addition to functions, there are two main control flow mechanisms that we will look at in this section: **_conditional execution_** or **_branching_** causes blocks of code to be executed or ignored based on the evaluation of a boolean expression; and **_loop_**s allow us to specify the execution of blocks of code a fixed or indeterminate number of times.\n",
    "\n",
    "Raising and handling **_exception_**s is another way to control the flow of execution in a Python program, but we're not going to cover that here."
   ]
  },
  {
   "cell_type": "markdown",
   "metadata": {},
   "source": [
    "### Conditional Execution (`if` statements)\n",
    "\n",
    "In Python, the compound `if` statement is comprised of three clauses: `if`, `else`, and `elif`.  Each of these clauses defines a block which executes if the appropriate condition is met."
   ]
  },
  {
   "cell_type": "code",
   "execution_count": null,
   "metadata": {},
   "outputs": [],
   "source": [
    "# if statements test a condition, and execute a block of code accordingly\n",
    "if 2 + 2 == 4:\n",
    "    print('Of course, two plus two equals equals four [sic].')"
   ]
  },
  {
   "cell_type": "code",
   "execution_count": null,
   "metadata": {},
   "outputs": [],
   "source": [
    "# TODO\n",
    "\n"
   ]
  },
  {
   "cell_type": "code",
   "execution_count": null,
   "metadata": {},
   "outputs": [],
   "source": [
    "# in addition to an else clause, if statements can have as many elif clauses as needed\n",
    "def spanish_inquisition(weapons):\n",
    "    if weapons == 1:\n",
    "        print(\"surprise\")\n",
    "    elif weapons == 2:\n",
    "        print(\"fear and surprise\")\n",
    "    elif weapons == 3:\n",
    "        print(\"fear and surprise and ruthless efficiency\")\n",
    "    elif weapons == 4:\n",
    "        print(\"fear and surprise and ruthless efficiency and an almost fanatical devotion to the Pope\")\n",
    "        \n",
    "spanish_inquisition(3)"
   ]
  },
  {
   "cell_type": "code",
   "execution_count": null,
   "metadata": {},
   "outputs": [],
   "source": []
  },
  {
   "cell_type": "code",
   "execution_count": null,
   "metadata": {},
   "outputs": [],
   "source": []
  },
  {
   "cell_type": "markdown",
   "metadata": {},
   "source": [
    "### Loops and Iteration (`for` loops)\n",
    "\n",
    "There are two basic kinds of loops in Python: those introduced with the `for` statement are sometimes called _iterative loops_, and we'll look at those below.  Python also has loops that can be introduced with the `while` statement, and these are sometimes referred to as _conditional loops_.  `while` loops are less common in Python, and we won't cover them in this workshop.\n",
    "\n",
    "`for` loops repeat the execution of a code block dependent on an iterable expression. For our purposes an iterable may be understood to refer to anything that can be looped over in a for loop -- in particular, this includes anything that is a sequence type; a list, a tuple, or a string."
   ]
  },
  {
   "cell_type": "code",
   "execution_count": null,
   "metadata": {},
   "outputs": [],
   "source": [
    "# the syntax for a for-loop looks like this:\n",
    "#  (as with function definition, note the colon and the indented block)\n",
    "for python in pythons:\n",
    "    print(python)"
   ]
  },
  {
   "cell_type": "code",
   "execution_count": null,
   "metadata": {},
   "outputs": [],
   "source": [
    "# we can also iterate over the keys of a dictionary\n",
    "for cheese in cheeseshop:\n",
    "    print(cheese)"
   ]
  },
  {
   "cell_type": "code",
   "execution_count": null,
   "metadata": {},
   "outputs": [],
   "source": [
    "# this becomes more and more useful as we do more in the body of the loop\n",
    "#  -- here we can re-use the ask_for_cheese() function from above\n",
    "for cheese in cheeseshop:\n",
    "    ask_for_cheese(cheese)"
   ]
  },
  {
   "cell_type": "code",
   "execution_count": null,
   "metadata": {},
   "outputs": [],
   "source": []
  },
  {
   "cell_type": "markdown",
   "metadata": {},
   "source": [
    "### Activity: Pig-Latinize a `list`\n",
    "\n",
    "In the cell below, write a function that loops over a list and returns a new list where all the strings have been replaced with their Pig Latin translations.\n",
    "\n",
    "For example, if your list is `['hello', 5, 'world']` your output should be `['ellohay', 5, 'orldway']`.\n",
    "\n",
    "Feel free to reuse the `pig_latinize` function you wrote above. You'll also need to think about checking the type of each item in the list."
   ]
  },
  {
   "cell_type": "code",
   "execution_count": null,
   "metadata": {},
   "outputs": [],
   "source": [
    "def pig_latinize_list(items):\n",
    "    # Your code goes here\n",
    "\n",
    "    \n",
    "pig_latinize_list(['hello', 5, 'world'])"
   ]
  },
  {
   "cell_type": "code",
   "execution_count": null,
   "metadata": {
    "cellView": "form"
   },
   "outputs": [],
   "source": [
    "#@title → Click Here to Show Hints\n",
    "\n",
    "# create an empty list and add pig-latinized words to it in turn\n",
    "# for each list item, test whether it's a string or not\n",
    "# if it's not a string, just append it to the new list unaltered"
   ]
  },
  {
   "cell_type": "code",
   "execution_count": null,
   "metadata": {
    "cellView": "form"
   },
   "outputs": [],
   "source": [
    "#@title → Click Here to Reveal a Prepared Solution\n",
    "\n",
    "def pig_latinize_list(items):\n",
    "\n",
    "    latinized_items = []\n",
    "    for item in items:\n",
    "        if (type(item) == str):\n",
    "            latinized_items.append(pig_latinize(item))\n",
    "        else:\n",
    "            latinized_items.append(item)\n",
    "    return latinized_items\n",
    "\n",
    "\n",
    "pig_latinize_list(['hello', 5, 'world'])"
   ]
  },
  {
   "cell_type": "code",
   "execution_count": null,
   "metadata": {},
   "outputs": [],
   "source": []
  },
  {
   "cell_type": "code",
   "execution_count": null,
   "metadata": {},
   "outputs": [],
   "source": []
  },
  {
   "cell_type": "markdown",
   "metadata": {},
   "source": [
    "## Group Activity: Pig-Latinize a Whole File"
   ]
  },
  {
   "cell_type": "code",
   "execution_count": null,
   "metadata": {},
   "outputs": [],
   "source": []
  },
  {
   "cell_type": "code",
   "execution_count": null,
   "metadata": {},
   "outputs": [],
   "source": []
  },
  {
   "cell_type": "code",
   "execution_count": null,
   "metadata": {},
   "outputs": [],
   "source": []
  },
  {
   "cell_type": "code",
   "execution_count": null,
   "metadata": {},
   "outputs": [],
   "source": []
  },
  {
   "cell_type": "code",
   "execution_count": null,
   "metadata": {},
   "outputs": [],
   "source": []
  },
  {
   "cell_type": "code",
   "execution_count": null,
   "metadata": {},
   "outputs": [],
   "source": []
  },
  {
   "cell_type": "markdown",
   "metadata": {},
   "source": [
    "# Further resources and topics\n",
    "\n",
    "## Resources\n",
    "- https://python.swaroopch.com/ (A Byte of Python is a great intro book and reference for Python)\n",
    "- https://docs.python.org/3/ (Official Python documentation and tutorials)\n",
    "- https://realpython.com/ (Contains a lot of different tutorials at different levels)\n",
    "- [Automate the Boring Stuff with Python](https://automatetheboringstuff.com/) (Simon's personal favourite)\n",
    "- LinkedIn Learning (formerly Lynda.com): https://www.linkedin.com/learning/topics/python (LinkedIn Learning is avaliable for free to those with Stanford accounts.)\n",
    "\n",
    "## Topics\n",
    "- Other data structures:, in particular `sets`, `tuples`\n",
    "- Comprehensions\n",
    "- Modules, libraries, packages, and `pip`\n",
    "- Writing `.py` scripts, and using IDEs\n",
    "- Virtual environments\n",
    "- The object-oriented paradigm in Python: classes, methods"
   ]
  },
  {
   "cell_type": "code",
   "execution_count": null,
   "metadata": {},
   "outputs": [],
   "source": []
  }
 ],
 "metadata": {
  "kernelspec": {
   "display_name": "Python 3",
   "language": "python",
   "name": "python3"
  },
  "language_info": {
   "codemirror_mode": {
    "name": "ipython",
    "version": 3
   },
   "file_extension": ".py",
   "mimetype": "text/x-python",
   "name": "python",
   "nbconvert_exporter": "python",
   "pygments_lexer": "ipython3",
   "version": "3.6.9"
  },
  "toc": {
   "base_numbering": 1,
   "nav_menu": {},
   "number_sections": false,
   "sideBar": true,
   "skip_h1_title": false,
   "title_cell": "Table of Contents",
   "title_sidebar": "Contents",
   "toc_cell": false,
   "toc_position": {},
   "toc_section_display": true,
   "toc_window_display": true
  }
 },
 "nbformat": 4,
 "nbformat_minor": 2
}
