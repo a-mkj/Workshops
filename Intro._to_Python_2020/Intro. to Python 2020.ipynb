{
 "cells": [
  {
   "cell_type": "markdown",
   "metadata": {},
   "source": [
    "<center>\n",
    "  <h1>Digital Tools and Methods for the Humanities and Social Sciences</h1>\n",
    "  <img src=\"https://raw.githubusercontent.com/sul-cidr/Workshops/master/cidr-logo.no-text.240x140.png\" alt=\"Center for Interdisciplinary Digital Research @ Stanford\"/>\n",
    "</center>\n",
    "\n",
    "# Introduction to Python\n",
    "\n",
    "### Instructors\n",
    "- Simon Wiles (CIDR), <em>simon.wiles@stanford.edu</em>\n",
    "- Peter Broadwell (CIDR), <em>broadwell@stanford.edu</em>\n",
    "\n",
    "### Sign In\n",
    "Please sign in for this workshop at: https://signin.cidr.link/Intro._to_Python/\n",
    "\n",
    "\n",
    "### Goal\n",
    "<mark>REVISE</mark>\n",
    "By the end of our workshop today, we hope you'll understand basic syntax in Python for variables, functions, and control flow, and understand some of the basic data structures in Python. With these in hand, you'll know enough to write basic scripts and explore other features of the language. \n",
    "\n",
    "### Topics\n",
    "<mark>REVISE</mark>\n",
    "- Variables and types/structures (String, Int, Float, List, Dictionary)\n",
    "- Functions\n",
    "- Control flow\n",
    "- Reading and writing text to a file \n",
    "- A basic workflow of reading in content, doing something to it, then writing a new output\n",
    "\n",
    "\n",
    "### Evaluation survey\n",
    "At the end of the workshop, we would be very grateful if you can, please, spend 1 minute answering a few questions that will help us to continue our workshop series.\n",
    "- https://evaluations.cidr.link/Intro._to_Python/\n"
   ]
  },
  {
   "cell_type": "markdown",
   "metadata": {},
   "source": [
    "## Why Python?\n",
    "<mark>REVISE</mark>\n",
    "It's multi-use: you can write simple scripts to automate tasks, write complex code for machine learning and other approaches, and even build full-scale web applications.\n",
    "\n",
    "The biggest reason we see people learning Python right now is for data science and related approaches, regardless of disciplinary background."
   ]
  },
  {
   "cell_type": "markdown",
   "metadata": {},
   "source": [
    "## Jupyter Notebooks and Google Colaboratory\n",
    "\n",
    "Jupyter notebooks are a way to write and run Python code in an interactive way. They're quickly becoming a standard way of putting together data, code, and written explanations or visualizations into a single document and sharing that. There are a lot of ways that you can run Jupyter notebooks, including just locally on your computer, but we've decided to use Google's Colaboratory notebook platform for this workshop.  Colaboratory is “a Google research project created to help disseminate machine learning education and research.”  If you would like to know more about Colaboratory in general, you can visit the [Welcome Notebook](https://colab.research.google.com/notebooks/welcome.ipynb).\n",
    "\n",
    "Using the Google Colaboratory platform allows us to focus on learning and writing Python in the workshop rather than on setting up Python, which can sometimes take a bit of extra work depending on platforms, operating systems, and other installed applications. If you'd like to install a Python distribution locally, though, we have some instructions (with gifs!) on installing Python through the Anaconda distribution, which will also help you handle virtual environments: https://github.com/sul-cidr/Workshops/wiki/Installing-and-Configuring-Anaconda-and-Jupyter-Notebooks\n",
    "\n",
    "If you run into problems, or would like to look into other ways of installing Python or handling virtual environments, feel free to send us an email (contact-cidr@stanford.edu) or visit us during our [consulting hours](https://library.stanford.edu/research/cidr/consulting).\n",
    "\n",
    "It should be possible to follow along with this workshop using a regular Python console (\"terminal\", \"command-prompt\", etc.)  Please note however that we will not be able to support you with problems related to a local environment during this workshop, and we do recommend using the Colaboratory notebooks if you are at all unsure."
   ]
  },
  {
   "cell_type": "markdown",
   "metadata": {},
   "source": [
    "## Some Basic Language Features"
   ]
  },
  {
   "cell_type": "markdown",
   "metadata": {},
   "source": [
    "### The `print()` function\n",
    "The most basic way for a Python program to generate output is via the `print()` function, which `print`s directly to the console or terminal environment in which the Python interpreted is executed.  In our Jupyter / Google Colab notebooks, this produces output beneath the code cell:\n",
    "\n",
    "```python\n",
    "print(\"Hello World!\")\n",
    "```"
   ]
  },
  {
   "cell_type": "code",
   "execution_count": null,
   "metadata": {},
   "outputs": [],
   "source": [
    "# Your turn:\n"
   ]
  },
  {
   "cell_type": "markdown",
   "metadata": {},
   "source": [
    "Jupyter code cells (and other Python console environments) will also automatically output the _return value_ of a cell (or other code block) -- in our context here that means the last statement in a code cell:\n",
    "```python\n",
    "\"Hello world!\"\n",
    "```"
   ]
  },
  {
   "cell_type": "code",
   "execution_count": null,
   "metadata": {},
   "outputs": [],
   "source": [
    "# Your turn:\n"
   ]
  },
  {
   "cell_type": "markdown",
   "metadata": {},
   "source": [
    "For more information about the print() statement, we can access Python's built-in documentation and the Colab envionment's autocomplete and intellisense functionality.\n",
    "```python\n",
    "print?\n",
    "```"
   ]
  },
  {
   "cell_type": "code",
   "execution_count": null,
   "metadata": {},
   "outputs": [],
   "source": [
    "# Your turn:\n"
   ]
  },
  {
   "cell_type": "markdown",
   "metadata": {},
   "source": [
    "### Comments\n",
    "Comments are an important part of any program.  In Python, comments begin with `#`:\n",
    "\n",
    "```python\n",
    "# This is a comment\n",
    "print(\"Hello world!\")\n",
    "\n",
    "```\n",
    "\n",
    "and they can also be used to annotate lines of code:\n",
    "```python\n",
    "print(\"Hello world!\")  # Comments are fine here too!\n",
    "```\n",
    "\n",
    "Use comments liberally, when you are learning and even when you think you know exactly what you're doing.  Your comments should allow readers of your code to understand _why_ your code does what it does.  Remember that a primary audience for your comments will be you yourself when you revisit your code in the future!"
   ]
  },
  {
   "cell_type": "markdown",
   "metadata": {},
   "source": [
    "### Indentation and Blocks\n",
    "White-space (specifically white-space at the beginning of lines) is meaningful in Python programs, and defines groups of statements which constitute _blocks_, which will become important when we discuss control flow and functions.  For now, note that indentation must be consistent in a python file -- the convention is to use four spaces.  Mixing up indentation levels will result in errors:"
   ]
  },
  {
   "cell_type": "code",
   "execution_count": null,
   "metadata": {},
   "outputs": [],
   "source": [
    "# Run this cell, and notice the error\n",
    "# Notice too that the whole cell fails to run, not just the line with the error\n",
    "print(\"this is fine\")\n",
    "  print(\"this is not\")"
   ]
  },
  {
   "cell_type": "markdown",
   "metadata": {},
   "source": [
    "## Variables and Types\n",
    "\n",
    "\n",
    "Variables are....\n",
    "Assignment is...\n",
    "\n",
    "\n",
    "Python has lots of native datatypes, but the most important ones are:\n",
    "\n",
    "* **Booleans** -- `True` or `False`\n",
    "* **Numbers** -- primarily integers and floats\n",
    "* **Strings** -- sequences of characters\n",
    "* **Lists** -- ordered sequences of values\n",
    "* **Tuples** -- like **list**s but immutable\n",
    "* **Dictionaries** -- unordered collections of key-value pairs\n",
    "* **Sets** -- unordered collections of values\n",
    "\n",
    "Below we will cover a brief introduction to _strings_, _lists_, and _dictionaries_.\n"
   ]
  },
  {
   "cell_type": "markdown",
   "metadata": {},
   "source": [
    "### Strings\n",
    "\n",
    "Strings are sequences of characters -- what we tend to call \"text\".\n",
    "\n",
    "```python\n",
    "# A simple string assignment\n",
    "greeting = \"Welcome to Introduction to Python\"\n",
    "print(greeting)\n",
    "print(type(greeting))\n",
    "```"
   ]
  },
  {
   "cell_type": "code",
   "execution_count": null,
   "metadata": {},
   "outputs": [],
   "source": [
    "# Your turn\n"
   ]
  },
  {
   "cell_type": "markdown",
   "metadata": {},
   "source": [
    "Strings can be indicated by single (`'`) or double (`\"`) quotes -- it makes no difference at all, and is merely a convenience.\n",
    "\n",
    "\"Escaping\" (use of the backslash `\\` before a character) can be used also.\n",
    "\n",
    "\n",
    "```python\n",
    "greeting = 'Welcome to \"Introduction to Python\"'\n",
    "print(greeting)\n",
    "\n",
    "greeting = \"Welcome to \\\"Introduction to Python\\\"\"\n",
    "print(greeting)\n",
    "```\n"
   ]
  },
  {
   "cell_type": "code",
   "execution_count": null,
   "metadata": {},
   "outputs": [],
   "source": [
    "# Your turn\n"
   ]
  },
  {
   "cell_type": "markdown",
   "metadata": {},
   "source": [
    "Strings may also be indicated by the use of triple quotes (`'''` or `\"\"\"` may be used).\n",
    "\n",
    "```python\n",
    "cheesemakers = '''\n",
    "Man: I think it was, \"Blessed are the cheesemakers\"!\n",
    "Gregory's wife: What's so special about the cheesemakers?\n",
    "Gregory: Well, obviously it's not meant to be taken literally. It refers to any manufacturer of dairy products.\n",
    "'''\n",
    "print(cheesemakers)\n",
    "\n",
    "```"
   ]
  },
  {
   "cell_type": "code",
   "execution_count": null,
   "metadata": {},
   "outputs": [],
   "source": [
    "# Your turn\n"
   ]
  },
  {
   "cell_type": "markdown",
   "metadata": {},
   "source": [
    "#### String Methods\n",
    "\n",
    "**String**s in Python have some special behaviors attached to them (called _method_s) that perform common tasks.\n",
    "\n",
    "Let’s look a case-manipulation, for example:\n",
    "\n",
    "```python\n",
    "print(\"monty python’s flying circus\".upper())\n",
    "print(\"MONTY PYTHON’S FLYING CIRCUS\".lower())\n",
    "```\n",
    "\n",
    "Case-manipulation is unicode-aware(but don't make the mistake of thinking this solves all problems!).\n",
    "\n",
    "```python\n",
    "print(\"norsk blå papegøye\".upper())  # \"Norweigian Blue parrot\" in Norweigian :)\n",
    "```\n",
    "\n",
    "Capitalization is mostly trivial...\n",
    "```python\n",
    "print(\"monty python’s flying circus\".capitalize())\n",
    "```\n",
    "\n",
    "...but it takes a naïve approach to title-case.\n",
    "```python\n",
    "print(\"monty python’s flying circus\".title())\n",
    "```"
   ]
  },
  {
   "cell_type": "code",
   "execution_count": null,
   "metadata": {},
   "outputs": [],
   "source": [
    "# Your turn\n"
   ]
  },
  {
   "cell_type": "markdown",
   "metadata": {},
   "source": [
    "Strings also provide the .replace() method, which behaves as expected:\n",
    "\n",
    "```python\n",
    "brian = \"Brian is the Messiah!\"\n",
    "print(brian)\n",
    "brian = brian.replace(\"the Messiah\", \"a very naughty boy\")\n",
    "print(brian)\n",
    "```"
   ]
  },
  {
   "cell_type": "code",
   "execution_count": null,
   "metadata": {},
   "outputs": [],
   "source": [
    "# Your turn\n"
   ]
  },
  {
   "cell_type": "markdown",
   "metadata": {},
   "source": [
    "The `.strip()` and `.split()` methods are amongst the most commonly used, and are especially useful when dealing with data from external sources.\n",
    "\n",
    "```python\n",
    "# .split() breaks a string into pieces, and returns those pieces as a list\n",
    "input_string = 'Monty Python and the Holy Grail'\n",
    "input_string.split()\n",
    "```\n",
    "\n",
    "```python\n",
    "# .split() takes an argument which specifies the sequence to split on\n",
    "knights_of_the_round_table = 'Sir Bedevere the Wise, Sir Lancelot the Brave, Sir Galahad the Pure, Sir Robin the Not-Quite-So-Brave-as-Sir-Lancelot, Sir Not-Appearing-in-this-Film'\n",
    "knights_of_the_round_table.split(',')\n",
    "```"
   ]
  },
  {
   "cell_type": "code",
   "execution_count": null,
   "metadata": {},
   "outputs": [],
   "source": [
    "# Your turn:\n"
   ]
  },
  {
   "cell_type": "markdown",
   "metadata": {},
   "source": [
    "In the previous examples we have some extraneous white-space in the strings in our list. For the knights_of_the_round_table we could remove this by splitting on ', ' (try it!), but in “the wild”, we commonly need to clean-up the text that we read into our programs, and the .strip() method is a good first step.\n",
    "\n",
    "```python\n",
    "print(cheesemakers.split('\\n'))\n",
    "# because cheesemakers.strip() returns another string, we can chain these operations:\n",
    "print(cheesemakers.strip().split('\\n'))\n",
    "```"
   ]
  },
  {
   "cell_type": "code",
   "execution_count": null,
   "metadata": {},
   "outputs": [],
   "source": []
  },
  {
   "cell_type": "code",
   "execution_count": null,
   "metadata": {},
   "outputs": [],
   "source": []
  },
  {
   "cell_type": "code",
   "execution_count": null,
   "metadata": {},
   "outputs": [],
   "source": []
  },
  {
   "cell_type": "markdown",
   "metadata": {},
   "source": [
    "Strings have many other useful methods -- use Google Colab’s tab-autocompletion feature to see what’s available.\n",
    "\n",
    "\n"
   ]
  },
  {
   "cell_type": "code",
   "execution_count": null,
   "metadata": {},
   "outputs": [],
   "source": []
  },
  {
   "cell_type": "code",
   "execution_count": null,
   "metadata": {},
   "outputs": [],
   "source": []
  },
  {
   "cell_type": "code",
   "execution_count": null,
   "metadata": {},
   "outputs": [],
   "source": []
  },
  {
   "cell_type": "code",
   "execution_count": null,
   "metadata": {},
   "outputs": [],
   "source": []
  },
  {
   "cell_type": "code",
   "execution_count": null,
   "metadata": {},
   "outputs": [],
   "source": []
  }
 ],
 "metadata": {
  "kernelspec": {
   "display_name": "Python 3",
   "language": "python",
   "name": "python3"
  },
  "language_info": {
   "codemirror_mode": {
    "name": "ipython",
    "version": 3
   },
   "file_extension": ".py",
   "mimetype": "text/x-python",
   "name": "python",
   "nbconvert_exporter": "python",
   "pygments_lexer": "ipython3",
   "version": "3.6.9"
  },
  "toc": {
   "base_numbering": 1,
   "nav_menu": {},
   "number_sections": false,
   "sideBar": true,
   "skip_h1_title": false,
   "title_cell": "Table of Contents",
   "title_sidebar": "Contents",
   "toc_cell": false,
   "toc_position": {},
   "toc_section_display": true,
   "toc_window_display": true
  }
 },
 "nbformat": 4,
 "nbformat_minor": 2
}
